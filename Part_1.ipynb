{
  "nbformat": 4,
  "nbformat_minor": 0,
  "metadata": {
    "colab": {
      "name": "Part_1.ipynb",
      "private_outputs": true,
      "provenance": [],
      "collapsed_sections": []
    },
    "kernelspec": {
      "name": "python3",
      "display_name": "Python 3"
    },
    "language_info": {
      "name": "python"
    }
  },
  "cells": [
    {
      "cell_type": "code",
      "metadata": {
        "id": "5Vol43NHlcXq"
      },
      "source": [
        "\"\"\"판다스는 시리즈(Series)와 데이터프레임(DataFrame)이라는 구조화된 데이터 형식을 제공한다.\n",
        "   서로 다른 종류의 데이터를 한곳에 담는 그릇(컨테이너)이 된다. 다만 시리즈는 1차원 배열, 데이터프레임은 2차원 배열이다.\"\"\"\n",
        "\n",
        "# 시리즈는 데이터가 순차적으로 나열된 1차원 배열의 형태를 갖는다. 인덱스는 데이터 값과 일대일 대응이 된다. 키와 값이 {키:값} 형태로 짝을 이루는 딕셔너리와 비슷한 구조.\n",
        "\n",
        "# 그래서 딕셔너리를 시리즈로 변환하는 방법을 많이 사용한다. 판다스 내장 함수인 Series() 를 이용하고 딕셔너리를 함수의 인자로 전달\n",
        "\n",
        "# 딕셔너리 -> 시리즈 변환: pandas.Series(딕셔너리)\n",
        "\n",
        "# 판다스 불러오기 \n",
        "import pandas as pd\n",
        "\n",
        "#key:value 쌍으로 딕셔너리를 만들고, 변수 dict_data에 저장\n",
        "dict_data = {'a': 1, 'b': 2, 'c': 3}\n",
        "\n",
        "# 판다스 Series() 함수로 dictionary를 Series로 변환, 변수 sr에 저장\n",
        "sr = pd.Series(dict_data)\n",
        "\n",
        "# sr의 자료형 출력 \n",
        "print(type(sr))\n",
        "print('\\n')\n",
        "# 변수 sr에 저장되어 있는 시리즈 객체를 출력\n",
        "print(sr)\n",
        "\"\"\"데이터 값의 자료형(dtype)은 정수형(int64)이다\"\"\""
      ],
      "execution_count": null,
      "outputs": []
    },
    {
      "cell_type": "code",
      "metadata": {
        "id": "uw-NSeRFsurV"
      },
      "source": [
        "# 리스트를 시리즈로 변환 \n",
        "\n",
        "import pandas as pd\n",
        "\n",
        "# 리스트를 시리즈로 변환하여 변수 sr에 저장\n",
        "list_data = ['2019-01-02', 3.14,'ABC',100,True]\n",
        "sr = pd.Series(list_data)\n",
        "print(sr)\n"
      ],
      "execution_count": null,
      "outputs": []
    },
    {
      "cell_type": "code",
      "metadata": {
        "id": "EXtXqQaPwxj_"
      },
      "source": [
        "\n",
        "# 인덱스 배열은 변수 idx에 저장. 데이터 값 배열은 변수 val에 저장\n",
        "idx = sr.index\n",
        "val = sr.values\n",
        "print(idx)\n",
        "print('\\n')\n",
        "print(val)"
      ],
      "execution_count": null,
      "outputs": []
    },
    {
      "cell_type": "code",
      "metadata": {
        "id": "IPu59yjI1h4l"
      },
      "source": [
        "# 튜플을 시리즈로 변환(인덱스 옵션 지정)    \n",
        "tup_data = ('영인', '2010-05-01', '여', True)\n",
        "sr = pd.Series(tup_data, index = ['이름','생년월일','성별','학생여부'])\n",
        "print(sr)   #dtype: object (object = 문자열)"
      ],
      "execution_count": null,
      "outputs": []
    },
    {
      "cell_type": "code",
      "metadata": {
        "id": "o2-CzbiD2QAo"
      },
      "source": [
        "#원소를 1개 선택\n",
        "\n",
        "print(sr[0])  # sr의 1번째 원소를 선택(정수형 위치 인덱스)\n",
        "print(sr['이름']) # '이름' 라벨을 가진 원소를 선택(인덱스 이름)\n"
      ],
      "execution_count": null,
      "outputs": []
    },
    {
      "cell_type": "code",
      "metadata": {
        "id": "ojDDfx-82qGw"
      },
      "source": [
        "# 여러 개의 원소를 선택(인덱스 리스트 활용)\n",
        "\n",
        "print(sr[[1,2]])  #인덱스를 list 형태로 입력하기 때문에 [[]] 이런 형식이 된다.\n",
        "print('\\n')\n",
        "print(sr[['생년월일','성별']])"
      ],
      "execution_count": null,
      "outputs": []
    },
    {
      "cell_type": "code",
      "metadata": {
        "id": "wZWqyweg3FGI"
      },
      "source": [
        "# 여러 개의 원소를 선택(인덱스 범위 지정)\n",
        "\n",
        "print(sr[1 : 2])\n",
        "print('\\n')\n",
        "print(sr['생년월일':'성별'])   #인덱스의 이름을 사용하면 범위의 끝도 포함된다."
      ],
      "execution_count": null,
      "outputs": []
    },
    {
      "cell_type": "code",
      "metadata": {
        "id": "1FpTMqVj3jQm"
      },
      "source": [
        "\"\"\"데이터프레임은 2차원 배열이다. 행과 열로 만들어지는 2차원 배열 구조는 마이크로소프트 엑셀과 데이터베이스 등 컴퓨터 관련 다양한 분야에서 사용.\"\"\"\n",
        "# 시리즈가 모여 데이터프레임을 이룰 수 있다. \n",
        "# 데이터프레임은 여러 개의 시리즈를 모아 놓은 집합으로 이해하면 된다. \n",
        "\"\"\"보통 여러 개의 리스트를 원소로 갖는 딕셔너리를 함수의 인자로 전달하는 방식이 주로 활용된다.\"\"\" \n",
        "# 딕셔너리 -> 데이터프레임 변환 : pandas.DataFrame(딕셔너리 객체)\n",
        "\n",
        "import pandas as pd\n",
        "\n",
        "# 열이름을 key로 하고, 리스트를 value로 갖는 딕셔너리 정의(2차원 배열)\n",
        "dict_data = {'c0':[1,2,3], 'c1':[4,5,6],'c2':[7,8,9], 'c3':[10,11,12], 'c4':[13,14,15]}\n",
        "\n",
        "# 판다스 DataFrame() 함수로 딕셔너리를 데이터프레임으로 변환. 변수 df에 저장. \n",
        "\n",
        "df = pd.DataFrame(dict_data) # dict_data의 key가 열 이름이 되고, 값(value)에 해당하는 각 리스트가 데이터프레임의 열이 된다. \n",
        "\n",
        "#df의 자료형 출력\n",
        "print(type(df))\n",
        "print('\\n')\n",
        "# 변수 df에 저장되어 있는 데이터프레임 객체를 출력\n",
        "print(df)"
      ],
      "execution_count": null,
      "outputs": []
    },
    {
      "cell_type": "code",
      "metadata": {
        "id": "GhYRcm0r6Vi9"
      },
      "source": [
        "df"
      ],
      "execution_count": null,
      "outputs": []
    },
    {
      "cell_type": "code",
      "metadata": {
        "id": "oFSKpAez6WIx"
      },
      "source": [
        "# 행 인덱스/열 이름 지정하여 데이터프레임 만들기 \n",
        "\n",
        "df = pd.DataFrame([[15, '남', '덕영중'],[17,'여','수리중']],index = ['봉수', '봉자'], columns=['나이','성별','학교'])\n",
        "\n",
        "# 행 인덱스, 열 이름 확인하기\n",
        "print(df)\n",
        "print('\\n')\n",
        "print(df.index)\n",
        "print('\\n')\n",
        "print(df.columns)"
      ],
      "execution_count": null,
      "outputs": []
    },
    {
      "cell_type": "code",
      "metadata": {
        "id": "wn4Hv1nx7tJF"
      },
      "source": [
        "# 행 인덱스, 열 이름 변경하기 \n",
        "df.index = ['학생1','학생2']\n",
        "df.columns = ['연령','남녀','소속']\n",
        "print(df)\n",
        "print('\\n')\n",
        "print(df.index)\n",
        "print('\\n')\n",
        "print(df.columns)"
      ],
      "execution_count": null,
      "outputs": []
    },
    {
      "cell_type": "code",
      "metadata": {
        "id": "M7_RvcLw8bs_"
      },
      "source": [
        "# 행 인덱스 변경 :  DataFrame 객체.rename(index = {기존 인덱스:새 인덱스, ...})\n",
        "# 열 이름 변경 : DataFrame 객체.rename(columns = {기존 이름:새 이름})"
      ],
      "execution_count": null,
      "outputs": []
    },
    {
      "cell_type": "code",
      "metadata": {
        "id": "hvXkZ0oD98NH"
      },
      "source": [
        "# 행 인덱스/열 이름 지정하여 데이터프레임 만들기\n",
        "df =  pd.DataFrame([[15, '남','덕영중'], [17, '여', '수리중']],\n",
        "                   index = ['준서','예은'],\n",
        "                   columns = ['나이','성별','학교'])\n",
        "\n",
        "# 데이터프레임 df 출력\n",
        "print(df)\n",
        "print('\\n')\n",
        "\n",
        "# 열 이름 중 '나이'를 '연령'으로, '성별'을 '남녀'로, '학교'를 '소속'으로 바꾸기\n",
        "df.rename(columns={'나이':'연령', '성별':'남녀','학교':'소속'}, inplace = True)\n",
        "\n",
        "#df의 행 인덱스 중에서, '준서'를 '학생1'로 '예은'을 '학생2'로 바꾸기\n",
        "df.rename(index={'준서':'학생1', '예은': '학생2'}, inplace=True)\n",
        "\n",
        "# df 출력 (변경 후)\n",
        "print(df)"
      ],
      "execution_count": null,
      "outputs": []
    },
    {
      "cell_type": "code",
      "metadata": {
        "id": "pfGjWV_TA27d"
      },
      "source": [
        "# 행 삭제: DataFrame 객체.drop(행 인덱스 또는 배열,axis = 0)\n",
        "# 열 삭제: DataFrame 객체.drop(열 이름 또는 배열,axis = 1)\n"
      ],
      "execution_count": null,
      "outputs": []
    },
    {
      "cell_type": "code",
      "metadata": {
        "id": "BMU3ukA-B8k_"
      },
      "source": [
        "import pandas as pd\n",
        "\n",
        "# DataFrame() 함수로 데이터프레임 변환. 변수 df에 저장\n",
        "exam_data = {'수학':[90,80,70], '영어': [98,89,95],'음악': [85,95,100],'체육': [100,90,90]}\n",
        "\n",
        "df = pd.DataFrame(exam_data, index =['서준','우현','인아'])\n",
        "print(df)\n",
        "print('\\n')\n",
        "\n",
        "# 데이터프레임 df를 복제하여 변수 df2에 저장. df2의 1개 행(row) 삭제\n",
        "df2 = df[:] # 데이터프레임 df 복제\n",
        "df2.drop('우현',inplace =True)\n",
        "print(df2)\n",
        "print('\\n')\n",
        "\n",
        "# 데이터프레인 df를 복제하여 변수 df3에 저장. df의 2개 행(row) 삭제\n",
        "df3 = df[:]\n",
        "df3.drop(['우현','인아'], axis = 0, inplace = True)  # axis = 0 은 행\n",
        "print(df3)"
      ],
      "execution_count": null,
      "outputs": []
    },
    {
      "cell_type": "code",
      "metadata": {
        "id": "JT8kG3ozCxSi"
      },
      "source": [
        "#DataFrame() 함수로 데이터프레임 변환. 변수 df에 저장 \n",
        "\n",
        "exam_data = {'수학' : [90,80,70], '영어' : [98,89,95],\n",
        "             '음악' : [85,95,100], '체육': [100,90,90]}\n",
        "\n",
        "df = pd.DataFrame(exam_data, index = ['서준', '우현', '인아'])\n",
        "print(df)\n",
        "print('\\n')\n",
        "\n",
        "#데이터프레임 df를 복제하여 변수 df4에 저장. df4의 1개 열(column) 삭제\n",
        "df4 = df[:]\n",
        "df4.drop('수학', axis = 1, inplace = True)\n",
        "print(df4)\n",
        "print('\\n')\n",
        "\n",
        "# 데이터프레임 df를 복제하여 변수 df5에 저장. df5의 2개 열(column) 삭제 \n",
        "df5 = df.copy()\n",
        "df5.drop(['영어', '체육'], axis = 1, inplace =True)\n",
        "print(df5)"
      ],
      "execution_count": null,
      "outputs": []
    },
    {
      "cell_type": "code",
      "metadata": {
        "id": "9VdDurHjJT4F"
      },
      "source": [
        ""
      ],
      "execution_count": null,
      "outputs": []
    }
  ]
}